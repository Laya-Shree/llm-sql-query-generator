{
 "cells": [
  {
   "cell_type": "code",
   "execution_count": 1,
   "metadata": {},
   "outputs": [
    {
     "data": {
      "text/plain": [
       "True"
      ]
     },
     "execution_count": 1,
     "metadata": {},
     "output_type": "execute_result"
    }
   ],
   "source": [
    "from langchain_google_genai import GoogleGenerativeAI\n",
    "from dotenv import load_dotenv\n",
    "import os\n",
    "load_dotenv()"
   ]
  },
  {
   "cell_type": "code",
   "execution_count": 2,
   "metadata": {},
   "outputs": [],
   "source": [
    "api_key = os.getenv(\"api_key\")"
   ]
  },
  {
   "cell_type": "code",
   "execution_count": 6,
   "metadata": {},
   "outputs": [
    {
     "name": "stdout",
     "output_type": "stream",
     "text": [
      "The griddle sings a sizzling song,\n",
      "A promise whispered, all night long.\n",
      "Of crispy edges, golden brown,\n",
      "The best breakfast in all the town.\n",
      "\n",
      "A fermented batter, light and thin,\n",
      "Spread on the heat, where joys begin.\n",
      "The aroma rises, sharp and bright,\n",
      "A beacon burning in the morning light.\n",
      "\n",
      "With sambar's tang and chutney's spice,\n",
      "A symphony of flavors, oh so nice!\n",
      "Coconut white, and tomato red,\n",
      "A feast for senses, in my head.\n",
      "\n",
      "I tear a piece, so thin and frail,\n",
      "And dip it deep, without a fail.\n",
      "The explosion bursts upon my tongue,\n",
      "A love for dosa, forever young.\n",
      "\n",
      "From paper thin to thick and grand,\n",
      "A culinary treasure, close at hand.\n",
      "So let me savor, every bite,\n",
      "My dosa love, a pure delight!\n"
     ]
    }
   ],
   "source": [
    "llm = GoogleGenerativeAI(google_api_key=api_key, model = \"gemini-2.0-flash\", temperature=0.2)\n",
    "poem = llm(\"write a poem on my love for dosa\")\n",
    "print(poem)"
   ]
  },
  {
   "cell_type": "code",
   "execution_count": null,
   "metadata": {},
   "outputs": [],
   "source": []
  }
 ],
 "metadata": {
  "kernelspec": {
   "display_name": "venv",
   "language": "python",
   "name": "python3"
  },
  "language_info": {
   "codemirror_mode": {
    "name": "ipython",
    "version": 3
   },
   "file_extension": ".py",
   "mimetype": "text/x-python",
   "name": "python",
   "nbconvert_exporter": "python",
   "pygments_lexer": "ipython3",
   "version": "3.11.4"
  }
 },
 "nbformat": 4,
 "nbformat_minor": 2
}
