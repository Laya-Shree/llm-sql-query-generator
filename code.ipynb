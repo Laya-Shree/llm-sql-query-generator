{
 "cells": [
  {
   "cell_type": "markdown",
   "metadata": {},
   "source": [
    "##### IMPORT"
   ]
  },
  {
   "cell_type": "code",
   "execution_count": 2,
   "metadata": {},
   "outputs": [],
   "source": [
    "from langchain_google_genai import GoogleGenerativeAI\n",
    "from dotenv import load_dotenv\n",
    "import os"
   ]
  },
  {
   "cell_type": "markdown",
   "metadata": {},
   "source": [
    "##### ENV VARIABLES"
   ]
  },
  {
   "cell_type": "code",
   "execution_count": 3,
   "metadata": {},
   "outputs": [],
   "source": [
    "load_dotenv()\n",
    "api_key = os.getenv(\"API_KEY\")\n",
    "user = os.getenv(\"DB_USER\")\n",
    "pswd = os.getenv(\"DB_PASSWORD\")\n",
    "host = os.getenv(\"DB_HOST\")\n",
    "name = os.getenv(\"DB_NAME\")"
   ]
  },
  {
   "cell_type": "markdown",
   "metadata": {},
   "source": [
    "##### MODEL DEFINITION"
   ]
  },
  {
   "cell_type": "code",
   "execution_count": 4,
   "metadata": {},
   "outputs": [
    {
     "name": "stderr",
     "output_type": "stream",
     "text": [
      "C:\\Users\\layas\\AppData\\Local\\Temp\\ipykernel_3480\\1783157393.py:2: LangChainDeprecationWarning: The method `BaseLLM.__call__` was deprecated in langchain-core 0.1.7 and will be removed in 1.0. Use :meth:`~invoke` instead.\n",
      "  poem = llm(\"write a poem on my love for dosa\")\n"
     ]
    },
    {
     "name": "stdout",
     "output_type": "stream",
     "text": [
      "The griddle sings a sizzling song,\n",
      "A promise whispered, all night long.\n",
      "Of golden crisp and airy grace,\n",
      "A smile upon my hungry face.\n",
      "\n",
      "The batter swirls, a milky dream,\n",
      "Upon the heat, a vibrant gleam.\n",
      "It spreads and thins, a perfect round,\n",
      "The best breakfast that can be found.\n",
      "\n",
      "From plain and simple, pure delight,\n",
      "To masala's fiery, spiced might.\n",
      "With potato filling, rich and bold,\n",
      "A story in each fold unfolds.\n",
      "\n",
      "The sambar steams, a tangy brew,\n",
      "Coconut chutney, fresh and new.\n",
      "A dip, a tear, a blissful sigh,\n",
      "As flavors dance and reach the sky.\n",
      "\n",
      "Oh, dosa, you are more than food,\n",
      "A comfort, understood.\n",
      "A taste of home, a warm embrace,\n",
      "A smile that time cannot erase.\n",
      "\n",
      "From street side stalls to fancy fare,\n",
      "My love for you beyond compare.\n",
      "So let the griddle sing its tune,\n",
      "I'll be there waiting, very soon.\n"
     ]
    }
   ],
   "source": [
    "llm = GoogleGenerativeAI(google_api_key=api_key, model = \"gemini-2.0-flash\", temperature=0.2)\n",
    "poem = llm(\"write a poem on my love for dosa\")\n",
    "print(poem)"
   ]
  },
  {
   "cell_type": "markdown",
   "metadata": {},
   "source": [
    "##### MYSQL CONNECTION"
   ]
  },
  {
   "cell_type": "code",
   "execution_count": 5,
   "metadata": {},
   "outputs": [],
   "source": [
    "from langchain.utilities import SQLDatabase\n",
    "db = SQLDatabase.from_uri(f\"mysql+pymysql://{user}:{pswd}@{host}/{name}\", sample_rows_in_table_info = 3)\n"
   ]
  },
  {
   "cell_type": "code",
   "execution_count": 6,
   "metadata": {},
   "outputs": [
    {
     "name": "stdout",
     "output_type": "stream",
     "text": [
      "\n",
      "CREATE TABLE discounts (\n",
      "\tdiscount_id INTEGER NOT NULL AUTO_INCREMENT, \n",
      "\tt_shirt_id INTEGER NOT NULL, \n",
      "\tpct_discount DECIMAL(5, 2), \n",
      "\tPRIMARY KEY (discount_id), \n",
      "\tCONSTRAINT discounts_ibfk_1 FOREIGN KEY(t_shirt_id) REFERENCES t_shirts (t_shirt_id), \n",
      "\tCONSTRAINT discounts_chk_1 CHECK ((`pct_discount` between 0 and 100))\n",
      ")DEFAULT CHARSET=utf8mb4 ENGINE=InnoDB COLLATE utf8mb4_0900_ai_ci\n",
      "\n",
      "/*\n",
      "3 rows from discounts table:\n",
      "discount_id\tt_shirt_id\tpct_discount\n",
      "21\t1\t10.00\n",
      "22\t2\t15.00\n",
      "23\t3\t20.00\n",
      "*/\n",
      "\n",
      "\n",
      "CREATE TABLE t_shirts (\n",
      "\tt_shirt_id INTEGER NOT NULL AUTO_INCREMENT, \n",
      "\tbrand ENUM('Van Huesen','Levi','Nike','Adidas') NOT NULL, \n",
      "\tcolor ENUM('Red','Blue','Black','White') NOT NULL, \n",
      "\tsize ENUM('XS','S','M','L','XL') NOT NULL, \n",
      "\tprice INTEGER, \n",
      "\tstock_quantity INTEGER NOT NULL, \n",
      "\tPRIMARY KEY (t_shirt_id), \n",
      "\tCONSTRAINT t_shirts_chk_1 CHECK ((`price` between 10 and 50))\n",
      ")DEFAULT CHARSET=utf8mb4 ENGINE=InnoDB COLLATE utf8mb4_0900_ai_ci\n",
      "\n",
      "/*\n",
      "3 rows from t_shirts table:\n",
      "t_shirt_id\tbrand\tcolor\tsize\tprice\tstock_quantity\n",
      "1\tAdidas\tBlue\tXL\t23\t22\n",
      "2\tNike\tRed\tXL\t15\t80\n",
      "3\tLevi\tRed\tXL\t50\t51\n",
      "*/\n"
     ]
    }
   ],
   "source": [
    "print(db.table_info)"
   ]
  },
  {
   "cell_type": "markdown",
   "metadata": {},
   "source": [
    "##### DIRECT MYSQL QUERY"
   ]
  },
  {
   "cell_type": "code",
   "execution_count": 7,
   "metadata": {},
   "outputs": [
    {
     "name": "stdout",
     "output_type": "stream",
     "text": [
      "((Decimal('20107.100000'),),)\n"
     ]
    }
   ],
   "source": [
    "import pymysql\n",
    "\n",
    "# Connect to your database\n",
    "connection = pymysql.connect(\n",
    "    host=host,\n",
    "    user=user,\n",
    "    password=pswd,\n",
    "    database=name\n",
    ")\n",
    "\n",
    "try:\n",
    "    with connection.cursor() as cursor:\n",
    "        # Execute the query without markdown formatting\n",
    "        sql = '''SELECT sum(a.total_amount*((100-COALESCE(discounts.pct_discount,0))/100)) AS total_revenue\n",
    "        FROM (\n",
    "            SELECT sum(price*stock_quantity) AS total_amount, t_shirt_id \n",
    "            FROM t_shirts \n",
    "            WHERE brand = 'Levi'\n",
    "            GROUP BY t_shirt_id\n",
    "            )\n",
    "        a LEFT JOIN discounts \n",
    "        ON a.t_shirt_id = discounts.t_shirt_id\n",
    "\n",
    "            '''\n",
    "        cursor.execute(sql)\n",
    "        result = cursor.fetchall()\n",
    "        print(result)\n",
    "finally:\n",
    "    connection.close()\n"
   ]
  },
  {
   "cell_type": "markdown",
   "metadata": {},
   "source": [
    "##### SQL QUERY GENERATOR"
   ]
  },
  {
   "cell_type": "code",
   "execution_count": 8,
   "metadata": {},
   "outputs": [],
   "source": [
    "from langchain.chains import create_sql_query_chain\n",
    "from langchain_community.utilities import SQLDatabase\n",
    "from langchain_community.tools.sql_database.tool import QuerySQLDatabaseTool\n",
    "\n",
    "# Create a custom tool that extends QuerySQLDatabaseTool to clean queries\n",
    "class CleanQuerySQLDatabaseTool(QuerySQLDatabaseTool):\n",
    "    def _run(self, query: str, **kwargs):\n",
    "        # Remove markdown code block formatting if present\n",
    "        if query.startswith(\"```\"):\n",
    "            # Extract the query from the markdown code block\n",
    "            lines = query.split(\"\\n\")\n",
    "            # Remove the first line (```sql) and the last line (```\n",
    "            clean_lines = lines[1:-1] if lines[-1].strip() == \"```\" else lines[1:]\n",
    "            query = \"\\n\".join(clean_lines)\n",
    "            print (\"SQL QUERY:\", query)\n",
    "        return super()._run(query, **kwargs)\n",
    "\n",
    "# Create the SQL query generation chain\n",
    "write_query = create_sql_query_chain(llm, db)\n",
    "\n",
    "# Create the custom SQL query execution tool\n",
    "execute_query = CleanQuerySQLDatabaseTool(db=db)\n",
    "\n",
    "# Chain them together\n",
    "chain = write_query | execute_query"
   ]
  },
  {
   "cell_type": "code",
   "execution_count": 9,
   "metadata": {},
   "outputs": [
    {
     "name": "stdout",
     "output_type": "stream",
     "text": [
      "SQL QUERY: SELECT\n",
      "  `stock_quantity`\n",
      "FROM t_shirts\n",
      "WHERE\n",
      "  `brand` = 'Nike' AND `size` = 'XS' AND `color` = 'White'\n",
      "LIMIT 5;\n"
     ]
    }
   ],
   "source": [
    "# Wrong\n",
    "# Execute the chain with your question\n",
    "qns1 = chain.invoke({\"question\": \"How many t-shirts do we have left for nike in extra small size and white color?\"})"
   ]
  },
  {
   "cell_type": "code",
   "execution_count": 10,
   "metadata": {},
   "outputs": [
    {
     "name": "stdout",
     "output_type": "stream",
     "text": [
      "SQL QUERY: SELECT SUM(`price` * `stock_quantity`) AS inventory_value FROM t_shirts WHERE `size` = 'S'\n"
     ]
    }
   ],
   "source": [
    "# Correct\n",
    "# Execute the chain with your question\n",
    "qns2 = chain.invoke({\"question\": \"How much is the price of the inventory for all small size t-shirts?\"})"
   ]
  },
  {
   "cell_type": "code",
   "execution_count": 11,
   "metadata": {},
   "outputs": [
    {
     "name": "stdout",
     "output_type": "stream",
     "text": [
      "SQL QUERY: SELECT\n",
      "  SUM(\n",
      "    (\n",
      "      `t_shirts`.`price` * (\n",
      "        1 - `discounts`.`pct_discount` / 100\n",
      "      )\n",
      "    ) * `t_shirts`.`stock_quantity`\n",
      "  ) AS revenue\n",
      "FROM `t_shirts`\n",
      "JOIN `discounts`\n",
      "  ON `t_shirts`.`t_shirt_id` = `discounts`.`t_shirt_id`\n",
      "WHERE\n",
      "  `t_shirts`.`brand` = 'Levi';\n"
     ]
    }
   ],
   "source": [
    "# Wrong\n",
    "# Execute the chain with your question\n",
    "qns3 = chain.invoke({\"question\": \"If we have to sell all the Levi's T-shirts today with discounts applied. How much revenue our store will generate (post discounts)?\"})"
   ]
  },
  {
   "cell_type": "code",
   "execution_count": 12,
   "metadata": {},
   "outputs": [
    {
     "data": {
      "text/plain": [
       "\"[(Decimal('7115.100000'),)]\""
      ]
     },
     "execution_count": 12,
     "metadata": {},
     "output_type": "execute_result"
    }
   ],
   "source": [
    "qns3"
   ]
  },
  {
   "cell_type": "code",
   "execution_count": 13,
   "metadata": {},
   "outputs": [
    {
     "name": "stdout",
     "output_type": "stream",
     "text": [
      "SQL QUERY: SELECT SUM(`stock_quantity`) FROM `t_shirts` WHERE `color` = 'White' AND `brand` = 'Levi'\n"
     ]
    },
    {
     "data": {
      "text/plain": [
       "\"[(Decimal('80'),)]\""
      ]
     },
     "execution_count": 13,
     "metadata": {},
     "output_type": "execute_result"
    }
   ],
   "source": [
    "# Correct\n",
    "# Execute the chain with your question\n",
    "qns4 = chain.invoke({\"question\": \"How many white color Levi's t shirts we have available?\"})\n",
    "qns4"
   ]
  },
  {
   "cell_type": "code",
   "execution_count": 14,
   "metadata": {},
   "outputs": [
    {
     "name": "stdout",
     "output_type": "stream",
     "text": [
      "SQL QUERY: SELECT SUM(`price` * `stock_quantity`) AS total_revenue\n",
      "FROM `t_shirts`\n",
      "WHERE `brand` = 'Levi';\n"
     ]
    },
    {
     "data": {
      "text/plain": [
       "\"[(Decimal('22109'),)]\""
      ]
     },
     "execution_count": 14,
     "metadata": {},
     "output_type": "execute_result"
    }
   ],
   "source": [
    "# Correct\n",
    "# Execute the chain with your question\n",
    "qns5 = chain.invoke({\"question\": \"If we have to sell all the Levi’s T-shirts today. How much revenue our store will generate without discount?\"})\n",
    "qns5"
   ]
  },
  {
   "cell_type": "code",
   "execution_count": 15,
   "metadata": {},
   "outputs": [
    {
     "name": "stdout",
     "output_type": "stream",
     "text": [
      "SQL QUERY: SELECT SUM(`stock_quantity`) FROM `t_shirts` WHERE `brand` = 'Levi'\n"
     ]
    },
    {
     "data": {
      "text/plain": [
       "\"[(Decimal('779'),)]\""
      ]
     },
     "execution_count": 15,
     "metadata": {},
     "output_type": "execute_result"
    }
   ],
   "source": [
    "# Correct\n",
    "# Execute the chain with your question\n",
    "qns6 = chain.invoke({\"question\": \"How many Levi's t shirts we have available?\"})\n",
    "qns6"
   ]
  },
  {
   "cell_type": "code",
   "execution_count": 16,
   "metadata": {},
   "outputs": [
    {
     "name": "stdout",
     "output_type": "stream",
     "text": [
      "SQL QUERY: SELECT\n",
      "  `t`.`t_shirt_id`\n",
      "FROM t_shirts AS `t`\n",
      "JOIN discounts AS `d`\n",
      "  ON `t`.`t_shirt_id` = `d`.`t_shirt_id`\n",
      "ORDER BY\n",
      "  `t`.`price` * `d`.`pct_discount` DESC\n",
      "LIMIT 1;\n"
     ]
    },
    {
     "data": {
      "text/plain": [
       "'[(10,)]'"
      ]
     },
     "execution_count": 16,
     "metadata": {},
     "output_type": "execute_result"
    }
   ],
   "source": [
    "# Wrong\n",
    "# Execute the chain with your question\n",
    "qns7 = chain.invoke({\"question\": \"Which t-shirt gives the highest discount [in terms of money]\"})\n",
    "qns7"
   ]
  },
  {
   "cell_type": "code",
   "execution_count": 17,
   "metadata": {},
   "outputs": [
    {
     "name": "stdout",
     "output_type": "stream",
     "text": [
      "SQL QUERY: SELECT\n",
      "  sum(a.total_amount * ((\n",
      "    100 - COALESCE(discounts.pct_discount, 0)\n",
      "  ) / 100)) AS total_revenue\n",
      "FROM (\n",
      "  SELECT\n",
      "    sum(`price` * `stock_quantity`) AS total_amount,\n",
      "    `t_shirt_id`\n",
      "  FROM t_shirts\n",
      "  WHERE\n",
      "    `brand` = 'Levi'\n",
      "  GROUP BY\n",
      "    `t_shirt_id`\n",
      ") AS a\n",
      "LEFT JOIN discounts\n",
      "  ON a.`t_shirt_id` = discounts.`t_shirt_id`;\n"
     ]
    },
    {
     "data": {
      "text/plain": [
       "\"[(Decimal('20107.100000'),)]\""
      ]
     },
     "execution_count": 17,
     "metadata": {},
     "output_type": "execute_result"
    }
   ],
   "source": [
    "# Execute the chain with your question\n",
    "qns7 = chain.invoke({\"question\": \"Execute this query: SELECT sum(a.total_amount*((100-COALESCE(discounts.pct_discount,0))/100)) AS total_revenue FROM ( SELECT sum(price*stock_quantity) AS total_amount, t_shirt_id FROM t_shirts WHERE brand = 'Levi' GROUP BY t_shirt_id ) a LEFT JOIN discounts ON a.t_shirt_id = discounts.t_shirt_id\"})\n",
    "qns7"
   ]
  },
  {
   "cell_type": "code",
   "execution_count": 18,
   "metadata": {},
   "outputs": [
    {
     "name": "stdout",
     "output_type": "stream",
     "text": [
      "SQL QUERY: SELECT MAX(`price`*`pct_discount`/100) AS discount_amount FROM t_shirts t JOIN discounts d ON t.`t_shirt_id` = d.`t_shirt_id`;\n"
     ]
    },
    {
     "data": {
      "text/plain": [
       "\"[(Decimal('12.600000'),)]\""
      ]
     },
     "execution_count": 18,
     "metadata": {},
     "output_type": "execute_result"
    }
   ],
   "source": [
    "# Execute the chain with your question\n",
    "qns8 = chain.invoke({\"question\": \"Execute this query: SELECT MAX(price*pct_discount/100) AS discount_amount FROM t_shirts t JOIN discounts d ON t.t_shirt_id = d.t_shirt_id;\"})\n",
    "qns8"
   ]
  },
  {
   "cell_type": "markdown",
   "metadata": {},
   "source": [
    "##### FEW SHOT LEARNING"
   ]
  },
  {
   "cell_type": "code",
   "execution_count": 19,
   "metadata": {},
   "outputs": [],
   "source": [
    "few_shots = [\n",
    "    {\n",
    "        'Question': \"How many t-shirts do we have left for nike in extra small size and white color?\",\n",
    "        'SQLQuery': \"SELECT SUM(stock_quantity) FROM t_shirts WHERE brand = 'Nike' AND size = 'XS' AND color = 'White';\",\n",
    "        'SQLResult': \"Result of the SQL Query\",\n",
    "        'Answer':qns1\n",
    "    },\n",
    "    {\n",
    "        'Question': \"If we have to sell all the Levi's T-shirts today with discounts applied. How much revenue our store will generate (post discounts)?\",\n",
    "        'SQLQuery': \"SELECT sum(a.total_amount*((100-COALESCE(discounts.pct_discount,0))/100)) AS total_revenue FROM ( SELECT sum(price*stock_quantity) AS total_amount, t_shirt_id FROM t_shirts WHERE brand = 'Levi' GROUP BY t_shirt_id ) a LEFT JOIN discounts ON a.t_shirt_id = discounts.t_shirt_id\",\n",
    "        'SQLResult': \"Result of the SQL Query\",\n",
    "        'Answer':qns7\n",
    "    },\n",
    "    {\n",
    "        'Question': \"What is the highest discount in terms of money that is given?\",\n",
    "        'SQLQuery': \"SELECT MAX(price*pct_discount/100) AS discount_amount FROM t_shirts t JOIN discounts d ON t.t_shirt_id = d.t_shirt_id;\",\n",
    "        'SQLResult': \"Result of the SQL Query\",\n",
    "        'Answer':qns8\n",
    "    },\n",
    "\n",
    "]"
   ]
  },
  {
   "cell_type": "code",
   "execution_count": 39,
   "metadata": {},
   "outputs": [
    {
     "data": {
      "text/plain": [
       "\"[(Decimal('12.600000'),)]\""
      ]
     },
     "execution_count": 39,
     "metadata": {},
     "output_type": "execute_result"
    }
   ],
   "source": [
    "qns8"
   ]
  },
  {
   "cell_type": "markdown",
   "metadata": {},
   "source": [
    "##### EMBEDDINGS"
   ]
  },
  {
   "cell_type": "code",
   "execution_count": 21,
   "metadata": {},
   "outputs": [
    {
     "name": "stderr",
     "output_type": "stream",
     "text": [
      "C:\\Users\\layas\\AppData\\Local\\Temp\\ipykernel_3480\\282906811.py:3: LangChainDeprecationWarning: The class `HuggingFaceEmbeddings` was deprecated in LangChain 0.2.2 and will be removed in 1.0. An updated version of the class exists in the :class:`~langchain-huggingface package and should be used instead. To use it run `pip install -U :class:`~langchain-huggingface` and import as `from :class:`~langchain_huggingface import HuggingFaceEmbeddings``.\n",
      "  embeddings = HuggingFaceEmbeddings(model_name = 'sentence-transformers/all-MiniLM-L6-v2')\n",
      "c:\\Users\\layas\\Desktop\\Laya\\Project Files\\GenAI_Tshirt_Sales\\venv\\Lib\\site-packages\\tqdm\\auto.py:21: TqdmWarning: IProgress not found. Please update jupyter and ipywidgets. See https://ipywidgets.readthedocs.io/en/stable/user_install.html\n",
      "  from .autonotebook import tqdm as notebook_tqdm\n"
     ]
    }
   ],
   "source": [
    "from langchain.embeddings import HuggingFaceEmbeddings\n",
    "\n",
    "embeddings = HuggingFaceEmbeddings(model_name = 'sentence-transformers/all-MiniLM-L6-v2')"
   ]
  },
  {
   "cell_type": "code",
   "execution_count": 22,
   "metadata": {},
   "outputs": [],
   "source": [
    "to_vectorize = [\" \".join(example.values()) for example in few_shots]"
   ]
  },
  {
   "cell_type": "code",
   "execution_count": 23,
   "metadata": {},
   "outputs": [],
   "source": [
    "from langchain.vectorstores import Chroma\n",
    "vectorstore = Chroma.from_texts(to_vectorize, embedding = embeddings, metadatas = few_shots)"
   ]
  },
  {
   "cell_type": "code",
   "execution_count": 24,
   "metadata": {},
   "outputs": [],
   "source": [
    "from langchain.prompts import SemanticSimilarityExampleSelector\n",
    "example_selector = SemanticSimilarityExampleSelector(\n",
    "    vectorstore = vectorstore,\n",
    "    k=2,\n",
    ")"
   ]
  },
  {
   "cell_type": "code",
   "execution_count": 25,
   "metadata": {},
   "outputs": [
    {
     "data": {
      "text/plain": [
       "[{'SQLResult': 'Result of the SQL Query',\n",
       "  'Answer': '[(11,)]',\n",
       "  'Question': 'How many t-shirts do we have left for nike in extra small size and white color?',\n",
       "  'SQLQuery': \"SELECT SUM(stock_quantity) FROM t_shirts WHERE brand = 'Nike' AND size = 'XS' AND color = 'White';\"},\n",
       " {'Answer': \"[(Decimal('20107.100000'),)]\",\n",
       "  'SQLQuery': \"SELECT sum(a.total_amount*((100-COALESCE(discounts.pct_discount,0))/100)) AS total_revenue FROM ( SELECT sum(price*stock_quantity) AS total_amount, t_shirt_id FROM t_shirts WHERE brand = 'Levi' GROUP BY t_shirt_id ) a LEFT JOIN discounts ON a.t_shirt_id = discounts.t_shirt_id\",\n",
       "  'Question': \"If we have to sell all the Levi's T-shirts today with discounts applied. How much revenue our store will generate (post discounts)?\",\n",
       "  'SQLResult': 'Result of the SQL Query'}]"
      ]
     },
     "execution_count": 25,
     "metadata": {},
     "output_type": "execute_result"
    }
   ],
   "source": [
    "example_selector.select_examples({\"Question\":\"How many Adidas T shirts I have left in my store?\"})"
   ]
  },
  {
   "cell_type": "markdown",
   "metadata": {},
   "source": [
    "##### PROMPT TEMPLATE"
   ]
  },
  {
   "cell_type": "code",
   "execution_count": 26,
   "metadata": {},
   "outputs": [],
   "source": [
    "from langchain.chains.sql_database.prompt import PROMPT_SUFFIX, _mysql_prompt"
   ]
  },
  {
   "cell_type": "code",
   "execution_count": 27,
   "metadata": {},
   "outputs": [
    {
     "name": "stdout",
     "output_type": "stream",
     "text": [
      "You are a MySQL expert. Given an input question, first create a syntactically correct MySQL query to run, then look at the results of the query and return the answer to the input question.\n",
      "Unless the user specifies in the question a specific number of examples to obtain, query for at most {top_k} results using the LIMIT clause as per MySQL. You can order the results to return the most informative data in the database.\n",
      "Never query for all columns from a table. You must query only the columns that are needed to answer the question. Wrap each column name in backticks (`) to denote them as delimited identifiers.\n",
      "Pay attention to use only the column names you can see in the tables below. Be careful to not query for columns that do not exist. Also, pay attention to which column is in which table.\n",
      "Pay attention to use CURDATE() function to get the current date, if the question involves \"today\".\n",
      "\n",
      "Use the following format:\n",
      "\n",
      "Question: Question here\n",
      "SQLQuery: SQL Query to run\n",
      "SQLResult: Result of the SQLQuery\n",
      "Answer: Final answer here\n",
      "\n",
      "\n"
     ]
    }
   ],
   "source": [
    "print(_mysql_prompt)"
   ]
  },
  {
   "cell_type": "code",
   "execution_count": 28,
   "metadata": {},
   "outputs": [
    {
     "name": "stdout",
     "output_type": "stream",
     "text": [
      "Only use the following tables:\n",
      "{table_info}\n",
      "\n",
      "Question: {input}\n"
     ]
    }
   ],
   "source": [
    "print(PROMPT_SUFFIX)"
   ]
  },
  {
   "cell_type": "code",
   "execution_count": 29,
   "metadata": {},
   "outputs": [],
   "source": [
    "from langchain.prompts.prompt import PromptTemplate\n",
    "\n",
    "example_prompt = PromptTemplate(\n",
    "    input_variables=[\"Question\", \"SQLQuery\", \"SQLResult\", \"Answer\"],\n",
    "    template=\"\\nQuestion: {Question}\\nSQLQuery: {SQLQuery}\\nSQLResult: {SQLResult}\\nAnswer: {Answer}\"\n",
    ")"
   ]
  },
  {
   "cell_type": "code",
   "execution_count": 30,
   "metadata": {},
   "outputs": [],
   "source": [
    "from langchain.prompts import FewShotPromptTemplate\n",
    "\n",
    "few_shot_prompt = FewShotPromptTemplate(\n",
    "    example_selector=example_selector,\n",
    "    example_prompt=example_prompt,\n",
    "    prefix=_mysql_prompt,\n",
    "    suffix=PROMPT_SUFFIX,\n",
    "    input_variables = [\"input\", \"table_info\", \"top_k\"],\n",
    ")"
   ]
  },
  {
   "cell_type": "markdown",
   "metadata": {},
   "source": [
    "##### NEW CHAIN"
   ]
  },
  {
   "cell_type": "code",
   "execution_count": 31,
   "metadata": {},
   "outputs": [],
   "source": [
    "write_query_new = create_sql_query_chain(llm, db, prompt = few_shot_prompt)\n",
    "\n",
    "# Create the custom SQL query execution tool\n",
    "execute_query_new = CleanQuerySQLDatabaseTool(db=db)\n",
    "\n",
    "# Chain them together\n",
    "new_chain = write_query_new | execute_query_new"
   ]
  },
  {
   "cell_type": "code",
   "execution_count": 32,
   "metadata": {},
   "outputs": [
    {
     "name": "stdout",
     "output_type": "stream",
     "text": [
      "SQL QUERY: SELECT SUM(`stock_quantity`) FROM `t_shirts` WHERE `brand` = 'Nike' AND `size` = 'XS' AND `color` = 'White'\n"
     ]
    }
   ],
   "source": [
    "# Execute the chain with your question\n",
    "qns1_new = new_chain.invoke({\"question\": \"How many t-shirts do we have left for nike in extra small size and white color?\"})"
   ]
  },
  {
   "cell_type": "code",
   "execution_count": 33,
   "metadata": {},
   "outputs": [
    {
     "data": {
      "text/plain": [
       "\"[(Decimal('11'),)]\""
      ]
     },
     "execution_count": 33,
     "metadata": {},
     "output_type": "execute_result"
    }
   ],
   "source": [
    "qns1_new"
   ]
  },
  {
   "cell_type": "code",
   "execution_count": 34,
   "metadata": {},
   "outputs": [
    {
     "name": "stdout",
     "output_type": "stream",
     "text": [
      "SQL QUERY: SELECT\n",
      "  SUM(a.total_amount * (\n",
      "    (\n",
      "      100 - COALESCE(discounts.pct_discount, 0)\n",
      "    ) / 100\n",
      "  )) AS total_revenue\n",
      "FROM (\n",
      "  SELECT\n",
      "    SUM(price * stock_quantity) AS total_amount,\n",
      "    t_shirt_id\n",
      "  FROM t_shirts\n",
      "  WHERE\n",
      "    brand = 'Levi'\n",
      "  GROUP BY\n",
      "    t_shirt_id\n",
      ") a\n",
      "LEFT JOIN discounts\n",
      "  ON a.t_shirt_id = discounts.t_shirt_id;\n"
     ]
    },
    {
     "data": {
      "text/plain": [
       "\"[(Decimal('20107.100000'),)]\""
      ]
     },
     "execution_count": 34,
     "metadata": {},
     "output_type": "execute_result"
    }
   ],
   "source": [
    "# Wrong\n",
    "# Execute the chain with your question\n",
    "qns3_new = new_chain.invoke({\"question\": \"If we have to sell all the Levi's T-shirts today with discounts applied. How much revenue our store will generate (post discounts)?\"})\n",
    "qns3_new"
   ]
  },
  {
   "cell_type": "code",
   "execution_count": 35,
   "metadata": {},
   "outputs": [
    {
     "name": "stdout",
     "output_type": "stream",
     "text": [
      "SQL QUERY: SELECT\n",
      "  `t_shirt_id`\n",
      "FROM t_shirts t\n",
      "JOIN discounts d\n",
      "  ON t.t_shirt_id = d.t_shirt_id\n",
      "ORDER BY\n",
      "  price * pct_discount / 100 DESC\n",
      "LIMIT 1;\n"
     ]
    },
    {
     "data": {
      "text/plain": [
       "'Error: (pymysql.err.OperationalError) (1052, \"Column \\'t_shirt_id\\' in field list is ambiguous\")\\n[SQL: SELECT\\n  `t_shirt_id`\\nFROM t_shirts t\\nJOIN discounts d\\n  ON t.t_shirt_id = d.t_shirt_id\\nORDER BY\\n  price * pct_discount / 100 DESC\\nLIMIT 1;]\\n(Background on this error at: https://sqlalche.me/e/20/e3q8)'"
      ]
     },
     "execution_count": 35,
     "metadata": {},
     "output_type": "execute_result"
    }
   ],
   "source": [
    "# Wrong\n",
    "# Execute the chain with your question\n",
    "qns7_new = new_chain.invoke({\"question\": \"Which t-shirt gives the highest discount [in terms of money]\"})\n",
    "qns7_new"
   ]
  },
  {
   "cell_type": "markdown",
   "metadata": {},
   "source": [
    "##### ROUGH AREA"
   ]
  },
  {
   "cell_type": "code",
   "execution_count": 36,
   "metadata": {},
   "outputs": [
    {
     "name": "stdout",
     "output_type": "stream",
     "text": [
      "Error: (pymysql.err.ProgrammingError) (1064, \"You have an error in your SQL syntax; check the manual that corresponds to your MySQL server version for the right syntax to use near '```sql\\nSELECT\\n  `stock_quantity`\\nFROM t_shirts\\nWHERE\\n  `brand` = 'Nike' AND `siz' at line 1\")\n",
      "[SQL: ```sql\n",
      "SELECT\n",
      "  `stock_quantity`\n",
      "FROM t_shirts\n",
      "WHERE\n",
      "  `brand` = 'Nike' AND `size` = 'XS' AND `color` = 'White'\n",
      "LIMIT 5;\n",
      "```]\n",
      "(Background on this error at: https://sqlalche.me/e/20/f405)\n"
     ]
    }
   ],
   "source": [
    "from langchain.chains import create_sql_query_chain\n",
    "from langchain_community.utilities import SQLDatabase\n",
    "from langchain_community.tools.sql_database.tool import QuerySQLDatabaseTool\n",
    "\n",
    "\n",
    "# Create the SQL query generation chain\n",
    "write_query = create_sql_query_chain(llm, db)\n",
    "\n",
    "# Create the SQL query execution tool\n",
    "execute_query = QuerySQLDatabaseTool(db=db)\n",
    "\n",
    "# Chain them together\n",
    "chain = write_query | execute_query\n",
    "\n",
    "\n",
    "# Execute the chain with your question\n",
    "result = chain.invoke({\"question\": \"How many t-shirts do we have left for nike in extra small size and white color?\"})\n",
    "\n",
    "print(result)\n"
   ]
  },
  {
   "cell_type": "code",
   "execution_count": 37,
   "metadata": {},
   "outputs": [],
   "source": [
    "# from langchain_experimental.sql import SQLDatabaseChain\n",
    "# db_chain = SQLDatabaseChain.from_llm(llm, db, verbose=True, use_query_checker = True)\n",
    "# db_chain | RunnableLambda(lambda x:x.replace('```','').replace('sql',''))\n",
    "# qns1 = db_chain.invoke(\"How many t-shirts do we have left for nike in extra small size and white color?\")\n",
    "\n",
    "\n",
    "from langchain_core.runnables import RunnableLambda\n",
    "from langchain.chains import create_sql_query_chain\n",
    "from langchain_community.utilities import SQLDatabase\n",
    "\n",
    "chain = create_sql_query_chain(llm, db)\n",
    "chain | RunnableLambda(lambda x:x.replace('```','').replace('sql',''))\n",
    "qns1 = chain.invoke({\"question\": \"How many t-shirts do we have left for nike in extra small size and white color?\"})\n",
    "\n"
   ]
  },
  {
   "cell_type": "code",
   "execution_count": null,
   "metadata": {},
   "outputs": [],
   "source": []
  },
  {
   "cell_type": "code",
   "execution_count": null,
   "metadata": {},
   "outputs": [],
   "source": []
  }
 ],
 "metadata": {
  "kernelspec": {
   "display_name": "venv",
   "language": "python",
   "name": "python3"
  },
  "language_info": {
   "codemirror_mode": {
    "name": "ipython",
    "version": 3
   },
   "file_extension": ".py",
   "mimetype": "text/x-python",
   "name": "python",
   "nbconvert_exporter": "python",
   "pygments_lexer": "ipython3",
   "version": "3.11.4"
  }
 },
 "nbformat": 4,
 "nbformat_minor": 2
}
